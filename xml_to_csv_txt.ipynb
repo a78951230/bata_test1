{
 "cells": [
  {
   "cell_type": "code",
   "execution_count": 1,
   "metadata": {},
   "outputs": [],
   "source": [
    "import tensorflow.compat.v1 as tf\n",
    "import numpy as np\n",
    "import time\n",
    "import sys\n",
    "import os\n",
    "import random\n",
    "#from skimage import io\n",
    "import pandas as pd\n",
    "from matplotlib import pyplot as plt\n",
    "from shutil import copyfile\n",
    "\n",
    "import cv2"
   ]
  },
  {
   "cell_type": "code",
   "execution_count": 2,
   "metadata": {},
   "outputs": [],
   "source": [
    "base_path = 'bata_test1' #檔案位子\n",
    "annotations_bbox_fname_train = 'train.csv' #csv檔\n",
    "annotations_bbox_fname_test = 'test.csv' #csv檔\n",
    "annotations_bbox_train = pd.read_csv(os.path.join(base_path, annotations_bbox_fname_train))\n",
    "annotations_bbox_test = pd.read_csv(os.path.join(base_path, annotations_bbox_fname_test))"
   ]
  },
  {
   "cell_type": "code",
   "execution_count": 3,
   "metadata": {},
   "outputs": [
    {
     "name": "stdout",
     "output_type": "stream",
     "text": [
      "Parse test_imgs 99; Number of boxes: 1025\r"
     ]
    }
   ],
   "source": [
    "test_path = os.path.join(base_path, 'dataset/test')#檔案位子和圖片位子\n",
    "test_df = pd.DataFrame(columns=['FileName', 'XMin', 'XMax', 'YMin', 'YMax', 'ClassName'])\n",
    "\n",
    "# Find boxes in each image and put them in a dataframe\n",
    "test_imgs = os.listdir(test_path)\n",
    "test_imgs = [name for name in test_imgs if not name.startswith('.')]\n",
    "\n",
    "for i in range(len(test_imgs)):\n",
    "    sys.stdout.write('Parse test_imgs ' + str(i) + '; Number of boxes: ' + str(len(test_df)) + '\\r')\n",
    "    sys.stdout.flush()\n",
    "    img_name = test_imgs[i]\n",
    "    img_id = img_name[0:16]\n",
    "    tmp_df = annotations_bbox_test[annotations_bbox_test['filename']==img_id]\n",
    "    for index, row in tmp_df.iterrows():\n",
    "        test_df = test_df.append({'FileName': row['filename'], \n",
    "                                            'XMin': row['xmin'], \n",
    "                                            'XMax': row['xmax'], \n",
    "                                            'YMin': row['ymin'], \n",
    "                                            'YMax': row['ymax'], \n",
    "                                            'ClassName': row['class']}, \n",
    "                                           ignore_index=True)"
   ]
  },
  {
   "cell_type": "code",
   "execution_count": 4,
   "metadata": {},
   "outputs": [
    {
     "name": "stdout",
     "output_type": "stream",
     "text": [
      "Parse train_imgs 927; Number of boxes: 2280\r"
     ]
    }
   ],
   "source": [
    "train_path = os.path.join(base_path, 'dataset/train')#檔案位子和圖片位子\n",
    "train_df = pd.DataFrame(columns=['FileName', 'XMin', 'XMax', 'YMin', 'YMax', 'ClassName'])\n",
    "\n",
    "# Find boxes in each image and put them in a dataframe\n",
    "train_imgs = os.listdir(train_path)\n",
    "train_imgs = [name for name in train_imgs if not name.startswith('.')]\n",
    "\n",
    "for i in range(len(train_imgs)):\n",
    "    sys.stdout.write('Parse train_imgs ' + str(i) + '; Number of boxes: ' + str(len(train_df)) + '\\r')\n",
    "    sys.stdout.flush()\n",
    "    img_name = train_imgs[i]\n",
    "    img_id = img_name[0:16]\n",
    "    tmp_df = annotations_bbox_train[annotations_bbox_train['filename']==img_id]\n",
    "    for index, row in tmp_df.iterrows():\n",
    "        train_df = train_df.append({'FileName': row['filename'], \n",
    "                                            'XMin': row['xmin'], \n",
    "                                            'XMax': row['xmax'], \n",
    "                                            'YMin': row['ymin'], \n",
    "                                            'YMax': row['ymax'], \n",
    "                                            'ClassName': row['class']}, \n",
    "                                           ignore_index=True)"
   ]
  },
  {
   "cell_type": "code",
   "execution_count": 5,
   "metadata": {},
   "outputs": [],
   "source": [
    "train_df.to_csv(os.path.join(base_path, 'train_1.csv'))\n",
    "test_df.to_csv(os.path.join(base_path, 'test_1.csv'))"
   ]
  },
  {
   "cell_type": "code",
   "execution_count": 6,
   "metadata": {},
   "outputs": [
    {
     "name": "stdout",
     "output_type": "stream",
     "text": [
      "     FileName XMin XMax YMin YMax  ClassName\n",
      "0  154150.jpg  300  419    2   66  Croissant\n",
      "1  154150.jpg  416  528    4   65  Croissant\n",
      "2  154202.jpg  240  359    4   68  Croissant\n",
      "3  154202.jpg  372  485    8   69  Croissant\n",
      "4  154210.jpg  196  313    4   67  Croissant\n",
      "2289\r"
     ]
    }
   ],
   "source": [
    "print(train_df.head())\n",
    "train_df = pd.read_csv(os.path.join(base_path, 'train_1.csv'))\n",
    "\n",
    "# For training\n",
    "f= open(base_path + \"/annotation.txt\",\"w+\")\n",
    "for idx, row in train_df.iterrows():\n",
    "    sys.stdout.write(str(idx) + '\\r')\n",
    "    sys.stdout.flush()\n",
    "    img = cv2.imread((base_path + '/dataset/train/' + row['FileName']))\n",
    "    height, width = img.shape[:2]\n",
    "    x1 = int(row['XMin'])\n",
    "    x2 = int(row['XMax'])\n",
    "    y1 = int(row['YMin'])\n",
    "    y2 = int(row['YMax'])\n",
    "    \n",
    "    google_colab_file_path = base_path + '/dataset/train/'\n",
    "    fileName = os.path.join(google_colab_file_path, row['FileName'])\n",
    "    className = row['ClassName']\n",
    "    f.write(fileName + ',' + str(x1) + ',' + str(y1) + ',' + str(x2) + ',' + str(y2) + ',' + className + '\\n')\n",
    "f.close()"
   ]
  },
  {
   "cell_type": "code",
   "execution_count": 7,
   "metadata": {},
   "outputs": [
    {
     "name": "stdout",
     "output_type": "stream",
     "text": [
      "     FileName  XMin  XMax  YMin  YMax        ClassName\n",
      "0  200246.jpg  3114  3676   362  1430         Baguette\n",
      "1  200246.jpg  2584  3353  1293  2081       honey_cake\n",
      "2  200246.jpg  2527  3243   430  1218  Blueberry_bread\n",
      "3  200246.jpg  2141  2639   113   873        Croissant\n",
      "4  200246.jpg  1780  2210    95   846        Croissant\n",
      "1035\r"
     ]
    }
   ],
   "source": [
    "print(test_df.head())\n",
    "test_df = pd.read_csv(os.path.join(base_path, 'test_1.csv'))\n",
    "\n",
    "# For test\n",
    "f= open(base_path + \"/test_annotation.txt\",\"w+\")\n",
    "for idx, row in test_df.iterrows():\n",
    "    sys.stdout.write(str(idx) + '\\r')\n",
    "    sys.stdout.flush()\n",
    "    img = cv2.imread((base_path + '/dataset/test/' + row['FileName']))\n",
    "    height, width = img.shape[:2]\n",
    "    x1 = int(row['XMin'])\n",
    "    x2 = int(row['XMax'] )\n",
    "    y1 = int(row['YMin'] )\n",
    "    y2 = int(row['YMax'] )\n",
    "    \n",
    "    google_colab_file_path = base_path + '/dataset/test/'\n",
    "    fileName = os.path.join(google_colab_file_path, row['FileName'])\n",
    "    className = row['ClassName']\n",
    "    #f.write(fileName + '\\n')\n",
    "    f.write(fileName + ',' + str(x1) + ',' + str(y1) + ',' + str(x2) + ',' + str(y2) + ',' + className + '\\n')\n",
    "f.close()"
   ]
  },
  {
   "cell_type": "code",
   "execution_count": null,
   "metadata": {},
   "outputs": [],
   "source": []
  }
 ],
 "metadata": {
  "kernelspec": {
   "display_name": "Python 3",
   "language": "python",
   "name": "python3"
  },
  "language_info": {
   "codemirror_mode": {
    "name": "ipython",
    "version": 3
   },
   "file_extension": ".py",
   "mimetype": "text/x-python",
   "name": "python",
   "nbconvert_exporter": "python",
   "pygments_lexer": "ipython3",
   "version": "3.6.10"
  }
 },
 "nbformat": 4,
 "nbformat_minor": 4
}
